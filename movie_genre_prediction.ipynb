{
  "cells": [
    {
      "cell_type": "code",
      "source": [
        "import pandas as pd\n",
        "import re\n",
        "\n",
        "# Define the regex pattern to extract the information\n",
        "pattern = r'^(\\d+) ::: (.+) \\((\\d{4})\\) ::: (.+) ::: (.+)$'\n",
        "\n",
        "# Store the cleaned data\n",
        "data = []\n",
        "\n",
        "# Read the file and process each line\n",
        "with open('/content/drive/MyDrive/train_data.txt', 'r') as file:\n",
        "    for line in file:\n",
        "        # Strip leading/trailing whitespace\n",
        "        line = line.strip()\n",
        "\n",
        "        # Use regex to extract the parts of the line\n",
        "        match = re.match(pattern, line)\n",
        "        if match:\n",
        "            index = int(match.group(1))  # Movie index\n",
        "            title = match.group(2)       # Movie title\n",
        "            year = int(match.group(3))   # Release year\n",
        "            genre = match.group(4)       # Genre\n",
        "            plot = match.group(5)        # Plot summary\n",
        "\n",
        "            # Append extracted data to the list\n",
        "            data.append([index, title, year, genre, plot])\n",
        "\n",
        "# Create a DataFrame from the parsed data\n",
        "df = pd.DataFrame(data, columns=['Index', 'Title', 'Year', 'Genre', 'Plot Summary'])\n",
        "\n",
        "# Display the DataFrame to check its contents\n",
        "print(df)\n",
        "\n",
        "# Save the DataFrame to a CSV file if needed\n",
        "df.to_csv('cleaned_movies_data.csv', index=False)\n"
      ],
      "metadata": {
        "colab": {
          "base_uri": "https://localhost:8080/"
        },
        "id": "_9xDlVWEViMC",
        "outputId": "ae59e7be-02f3-4282-c7d1-b58a3deb0edc"
      },
      "execution_count": 18,
      "outputs": [
        {
          "output_type": "stream",
          "name": "stdout",
          "text": [
            "       Index                                Title  Year        Genre  \\\n",
            "0          1                Oscar et la dame rose  2009        drama   \n",
            "1          2                                Cupid  1997     thriller   \n",
            "2          3            Young, Wild and Wonderful  1980        adult   \n",
            "3          4                       The Secret Sin  1915        drama   \n",
            "4          5                      The Unrecovered  2007        drama   \n",
            "...      ...                                  ...   ...          ...   \n",
            "49862  54209                Izpiti po nikoe vreme  1974       family   \n",
            "49863  54210                             \"Bonino\"  1953       comedy   \n",
            "49864  54212   Ronald Goedemondt: Ze bestaan echt  2008  documentary   \n",
            "49865  54213                    Make Your Own Bed  1944       comedy   \n",
            "49866  54214  Nature's Fury: Storm of the Century  2006      history   \n",
            "\n",
            "                                            Plot Summary  \n",
            "0      Listening in to a conversation between his doc...  \n",
            "1      A brother and sister with a past incestuous re...  \n",
            "2      As the bus empties the students for their fiel...  \n",
            "3      To help their unemployed father make ends meet...  \n",
            "4      The film's title refers not only to the un-rec...  \n",
            "...                                                  ...  \n",
            "49862  First story, \"Temptation\": Two kids find a wal...  \n",
            "49863  This short-lived NBC live sitcom centered on B...  \n",
            "49864  Ze bestaan echt, is a stand-up comedy about gr...  \n",
            "49865  Walter and Vivian live in the country and have...  \n",
            "49866  On Labor Day Weekend, 1935, the most intense h...  \n",
            "\n",
            "[49867 rows x 5 columns]\n"
          ]
        }
      ]
    },
    {
      "cell_type": "code",
      "source": [
        "df.describe()"
      ],
      "metadata": {
        "colab": {
          "base_uri": "https://localhost:8080/",
          "height": 300
        },
        "id": "iUaLIXfJTy32",
        "outputId": "caf2acf1-0cee-4a13-d69d-ac6b8bbe5c00"
      },
      "execution_count": 19,
      "outputs": [
        {
          "output_type": "execute_result",
          "data": {
            "text/plain": [
              "              Index          Year\n",
              "count  49867.000000  49867.000000\n",
              "mean   27126.276455   1998.766800\n",
              "std    15649.153347     22.914058\n",
              "min        1.000000   1894.000000\n",
              "25%    13576.500000   1995.000000\n",
              "50%    27128.000000   2008.000000\n",
              "75%    40674.500000   2013.000000\n",
              "max    54214.000000   2022.000000"
            ],
            "text/html": [
              "\n",
              "  <div id=\"df-06f3a6e2-0099-4b56-976f-af47c8ff54c4\" class=\"colab-df-container\">\n",
              "    <div>\n",
              "<style scoped>\n",
              "    .dataframe tbody tr th:only-of-type {\n",
              "        vertical-align: middle;\n",
              "    }\n",
              "\n",
              "    .dataframe tbody tr th {\n",
              "        vertical-align: top;\n",
              "    }\n",
              "\n",
              "    .dataframe thead th {\n",
              "        text-align: right;\n",
              "    }\n",
              "</style>\n",
              "<table border=\"1\" class=\"dataframe\">\n",
              "  <thead>\n",
              "    <tr style=\"text-align: right;\">\n",
              "      <th></th>\n",
              "      <th>Index</th>\n",
              "      <th>Year</th>\n",
              "    </tr>\n",
              "  </thead>\n",
              "  <tbody>\n",
              "    <tr>\n",
              "      <th>count</th>\n",
              "      <td>49867.000000</td>\n",
              "      <td>49867.000000</td>\n",
              "    </tr>\n",
              "    <tr>\n",
              "      <th>mean</th>\n",
              "      <td>27126.276455</td>\n",
              "      <td>1998.766800</td>\n",
              "    </tr>\n",
              "    <tr>\n",
              "      <th>std</th>\n",
              "      <td>15649.153347</td>\n",
              "      <td>22.914058</td>\n",
              "    </tr>\n",
              "    <tr>\n",
              "      <th>min</th>\n",
              "      <td>1.000000</td>\n",
              "      <td>1894.000000</td>\n",
              "    </tr>\n",
              "    <tr>\n",
              "      <th>25%</th>\n",
              "      <td>13576.500000</td>\n",
              "      <td>1995.000000</td>\n",
              "    </tr>\n",
              "    <tr>\n",
              "      <th>50%</th>\n",
              "      <td>27128.000000</td>\n",
              "      <td>2008.000000</td>\n",
              "    </tr>\n",
              "    <tr>\n",
              "      <th>75%</th>\n",
              "      <td>40674.500000</td>\n",
              "      <td>2013.000000</td>\n",
              "    </tr>\n",
              "    <tr>\n",
              "      <th>max</th>\n",
              "      <td>54214.000000</td>\n",
              "      <td>2022.000000</td>\n",
              "    </tr>\n",
              "  </tbody>\n",
              "</table>\n",
              "</div>\n",
              "    <div class=\"colab-df-buttons\">\n",
              "\n",
              "  <div class=\"colab-df-container\">\n",
              "    <button class=\"colab-df-convert\" onclick=\"convertToInteractive('df-06f3a6e2-0099-4b56-976f-af47c8ff54c4')\"\n",
              "            title=\"Convert this dataframe to an interactive table.\"\n",
              "            style=\"display:none;\">\n",
              "\n",
              "  <svg xmlns=\"http://www.w3.org/2000/svg\" height=\"24px\" viewBox=\"0 -960 960 960\">\n",
              "    <path d=\"M120-120v-720h720v720H120Zm60-500h600v-160H180v160Zm220 220h160v-160H400v160Zm0 220h160v-160H400v160ZM180-400h160v-160H180v160Zm440 0h160v-160H620v160ZM180-180h160v-160H180v160Zm440 0h160v-160H620v160Z\"/>\n",
              "  </svg>\n",
              "    </button>\n",
              "\n",
              "  <style>\n",
              "    .colab-df-container {\n",
              "      display:flex;\n",
              "      gap: 12px;\n",
              "    }\n",
              "\n",
              "    .colab-df-convert {\n",
              "      background-color: #E8F0FE;\n",
              "      border: none;\n",
              "      border-radius: 50%;\n",
              "      cursor: pointer;\n",
              "      display: none;\n",
              "      fill: #1967D2;\n",
              "      height: 32px;\n",
              "      padding: 0 0 0 0;\n",
              "      width: 32px;\n",
              "    }\n",
              "\n",
              "    .colab-df-convert:hover {\n",
              "      background-color: #E2EBFA;\n",
              "      box-shadow: 0px 1px 2px rgba(60, 64, 67, 0.3), 0px 1px 3px 1px rgba(60, 64, 67, 0.15);\n",
              "      fill: #174EA6;\n",
              "    }\n",
              "\n",
              "    .colab-df-buttons div {\n",
              "      margin-bottom: 4px;\n",
              "    }\n",
              "\n",
              "    [theme=dark] .colab-df-convert {\n",
              "      background-color: #3B4455;\n",
              "      fill: #D2E3FC;\n",
              "    }\n",
              "\n",
              "    [theme=dark] .colab-df-convert:hover {\n",
              "      background-color: #434B5C;\n",
              "      box-shadow: 0px 1px 3px 1px rgba(0, 0, 0, 0.15);\n",
              "      filter: drop-shadow(0px 1px 2px rgba(0, 0, 0, 0.3));\n",
              "      fill: #FFFFFF;\n",
              "    }\n",
              "  </style>\n",
              "\n",
              "    <script>\n",
              "      const buttonEl =\n",
              "        document.querySelector('#df-06f3a6e2-0099-4b56-976f-af47c8ff54c4 button.colab-df-convert');\n",
              "      buttonEl.style.display =\n",
              "        google.colab.kernel.accessAllowed ? 'block' : 'none';\n",
              "\n",
              "      async function convertToInteractive(key) {\n",
              "        const element = document.querySelector('#df-06f3a6e2-0099-4b56-976f-af47c8ff54c4');\n",
              "        const dataTable =\n",
              "          await google.colab.kernel.invokeFunction('convertToInteractive',\n",
              "                                                    [key], {});\n",
              "        if (!dataTable) return;\n",
              "\n",
              "        const docLinkHtml = 'Like what you see? Visit the ' +\n",
              "          '<a target=\"_blank\" href=https://colab.research.google.com/notebooks/data_table.ipynb>data table notebook</a>'\n",
              "          + ' to learn more about interactive tables.';\n",
              "        element.innerHTML = '';\n",
              "        dataTable['output_type'] = 'display_data';\n",
              "        await google.colab.output.renderOutput(dataTable, element);\n",
              "        const docLink = document.createElement('div');\n",
              "        docLink.innerHTML = docLinkHtml;\n",
              "        element.appendChild(docLink);\n",
              "      }\n",
              "    </script>\n",
              "  </div>\n",
              "\n",
              "\n",
              "<div id=\"df-f0c2d345-79f8-46f4-910b-1ab851ae04d3\">\n",
              "  <button class=\"colab-df-quickchart\" onclick=\"quickchart('df-f0c2d345-79f8-46f4-910b-1ab851ae04d3')\"\n",
              "            title=\"Suggest charts\"\n",
              "            style=\"display:none;\">\n",
              "\n",
              "<svg xmlns=\"http://www.w3.org/2000/svg\" height=\"24px\"viewBox=\"0 0 24 24\"\n",
              "     width=\"24px\">\n",
              "    <g>\n",
              "        <path d=\"M19 3H5c-1.1 0-2 .9-2 2v14c0 1.1.9 2 2 2h14c1.1 0 2-.9 2-2V5c0-1.1-.9-2-2-2zM9 17H7v-7h2v7zm4 0h-2V7h2v10zm4 0h-2v-4h2v4z\"/>\n",
              "    </g>\n",
              "</svg>\n",
              "  </button>\n",
              "\n",
              "<style>\n",
              "  .colab-df-quickchart {\n",
              "      --bg-color: #E8F0FE;\n",
              "      --fill-color: #1967D2;\n",
              "      --hover-bg-color: #E2EBFA;\n",
              "      --hover-fill-color: #174EA6;\n",
              "      --disabled-fill-color: #AAA;\n",
              "      --disabled-bg-color: #DDD;\n",
              "  }\n",
              "\n",
              "  [theme=dark] .colab-df-quickchart {\n",
              "      --bg-color: #3B4455;\n",
              "      --fill-color: #D2E3FC;\n",
              "      --hover-bg-color: #434B5C;\n",
              "      --hover-fill-color: #FFFFFF;\n",
              "      --disabled-bg-color: #3B4455;\n",
              "      --disabled-fill-color: #666;\n",
              "  }\n",
              "\n",
              "  .colab-df-quickchart {\n",
              "    background-color: var(--bg-color);\n",
              "    border: none;\n",
              "    border-radius: 50%;\n",
              "    cursor: pointer;\n",
              "    display: none;\n",
              "    fill: var(--fill-color);\n",
              "    height: 32px;\n",
              "    padding: 0;\n",
              "    width: 32px;\n",
              "  }\n",
              "\n",
              "  .colab-df-quickchart:hover {\n",
              "    background-color: var(--hover-bg-color);\n",
              "    box-shadow: 0 1px 2px rgba(60, 64, 67, 0.3), 0 1px 3px 1px rgba(60, 64, 67, 0.15);\n",
              "    fill: var(--button-hover-fill-color);\n",
              "  }\n",
              "\n",
              "  .colab-df-quickchart-complete:disabled,\n",
              "  .colab-df-quickchart-complete:disabled:hover {\n",
              "    background-color: var(--disabled-bg-color);\n",
              "    fill: var(--disabled-fill-color);\n",
              "    box-shadow: none;\n",
              "  }\n",
              "\n",
              "  .colab-df-spinner {\n",
              "    border: 2px solid var(--fill-color);\n",
              "    border-color: transparent;\n",
              "    border-bottom-color: var(--fill-color);\n",
              "    animation:\n",
              "      spin 1s steps(1) infinite;\n",
              "  }\n",
              "\n",
              "  @keyframes spin {\n",
              "    0% {\n",
              "      border-color: transparent;\n",
              "      border-bottom-color: var(--fill-color);\n",
              "      border-left-color: var(--fill-color);\n",
              "    }\n",
              "    20% {\n",
              "      border-color: transparent;\n",
              "      border-left-color: var(--fill-color);\n",
              "      border-top-color: var(--fill-color);\n",
              "    }\n",
              "    30% {\n",
              "      border-color: transparent;\n",
              "      border-left-color: var(--fill-color);\n",
              "      border-top-color: var(--fill-color);\n",
              "      border-right-color: var(--fill-color);\n",
              "    }\n",
              "    40% {\n",
              "      border-color: transparent;\n",
              "      border-right-color: var(--fill-color);\n",
              "      border-top-color: var(--fill-color);\n",
              "    }\n",
              "    60% {\n",
              "      border-color: transparent;\n",
              "      border-right-color: var(--fill-color);\n",
              "    }\n",
              "    80% {\n",
              "      border-color: transparent;\n",
              "      border-right-color: var(--fill-color);\n",
              "      border-bottom-color: var(--fill-color);\n",
              "    }\n",
              "    90% {\n",
              "      border-color: transparent;\n",
              "      border-bottom-color: var(--fill-color);\n",
              "    }\n",
              "  }\n",
              "</style>\n",
              "\n",
              "  <script>\n",
              "    async function quickchart(key) {\n",
              "      const quickchartButtonEl =\n",
              "        document.querySelector('#' + key + ' button');\n",
              "      quickchartButtonEl.disabled = true;  // To prevent multiple clicks.\n",
              "      quickchartButtonEl.classList.add('colab-df-spinner');\n",
              "      try {\n",
              "        const charts = await google.colab.kernel.invokeFunction(\n",
              "            'suggestCharts', [key], {});\n",
              "      } catch (error) {\n",
              "        console.error('Error during call to suggestCharts:', error);\n",
              "      }\n",
              "      quickchartButtonEl.classList.remove('colab-df-spinner');\n",
              "      quickchartButtonEl.classList.add('colab-df-quickchart-complete');\n",
              "    }\n",
              "    (() => {\n",
              "      let quickchartButtonEl =\n",
              "        document.querySelector('#df-f0c2d345-79f8-46f4-910b-1ab851ae04d3 button');\n",
              "      quickchartButtonEl.style.display =\n",
              "        google.colab.kernel.accessAllowed ? 'block' : 'none';\n",
              "    })();\n",
              "  </script>\n",
              "</div>\n",
              "\n",
              "    </div>\n",
              "  </div>\n"
            ],
            "application/vnd.google.colaboratory.intrinsic+json": {
              "type": "dataframe",
              "summary": "{\n  \"name\": \"df\",\n  \"rows\": 8,\n  \"fields\": [\n    {\n      \"column\": \"Index\",\n      \"properties\": {\n        \"dtype\": \"number\",\n        \"std\": 18783.684262037757,\n        \"min\": 1.0,\n        \"max\": 54214.0,\n        \"num_unique_values\": 8,\n        \"samples\": [\n          27126.276455371288,\n          27128.0,\n          49867.0\n        ],\n        \"semantic_type\": \"\",\n        \"description\": \"\"\n      }\n    },\n    {\n      \"column\": \"Year\",\n      \"properties\": {\n        \"dtype\": \"number\",\n        \"std\": 17040.827813822427,\n        \"min\": 22.914057849222527,\n        \"max\": 49867.0,\n        \"num_unique_values\": 8,\n        \"samples\": [\n          1998.7667996871678,\n          2008.0,\n          49867.0\n        ],\n        \"semantic_type\": \"\",\n        \"description\": \"\"\n      }\n    }\n  ]\n}"
            }
          },
          "metadata": {},
          "execution_count": 19
        }
      ]
    },
    {
      "cell_type": "code",
      "source": [
        "df.info()"
      ],
      "metadata": {
        "colab": {
          "base_uri": "https://localhost:8080/"
        },
        "id": "jw9wWsQGT4CO",
        "outputId": "763e7b11-099d-46f2-8fb2-afa9cbc04532"
      },
      "execution_count": 21,
      "outputs": [
        {
          "output_type": "stream",
          "name": "stdout",
          "text": [
            "<class 'pandas.core.frame.DataFrame'>\n",
            "RangeIndex: 49867 entries, 0 to 49866\n",
            "Data columns (total 5 columns):\n",
            " #   Column        Non-Null Count  Dtype \n",
            "---  ------        --------------  ----- \n",
            " 0   Index         49867 non-null  int64 \n",
            " 1   Title         49867 non-null  object\n",
            " 2   Year          49867 non-null  int64 \n",
            " 3   Genre         49867 non-null  object\n",
            " 4   Plot Summary  49867 non-null  object\n",
            "dtypes: int64(2), object(3)\n",
            "memory usage: 1.9+ MB\n"
          ]
        }
      ]
    },
    {
      "source": [
        "import re  # Regular expressions for text cleaning\n",
        "import nltk  # Natural Language Toolkit for text processing\n",
        "from nltk.corpus import stopwords  # Stopwords list\n",
        "from sklearn.feature_extraction.text import TfidfVectorizer  # TF-IDF Vectorizer to convert text to numerical features\n",
        "\n",
        "# Download stopwords if not already present\n",
        "nltk.download('stopwords')\n",
        "\n",
        "# Function to clean text\n",
        "def clean_text(text):\n",
        "    # Remove all non-alphabetic characters (numbers, punctuation, etc.)\n",
        "    text = re.sub(r'\\W', ' ', text)\n",
        "\n",
        "    # Convert the entire text to lowercase\n",
        "    text = text.lower()\n",
        "\n",
        "    # Replace multiple spaces with a single space\n",
        "    text = re.sub(r'\\s+', ' ', text)\n",
        "\n",
        "    # Strip leading and trailing spaces\n",
        "    text = text.strip()\n",
        "\n",
        "    return text\n",
        "\n",
        "# Apply the cleaning function to the 'Plot Summary' column in your dataset\n",
        "df['Cleaned Plot'] = df['Plot Summary'].apply(clean_text)\n",
        "\n",
        "# Display the first few rows of the cleaned dataset to check if the cleaning worked\n",
        "print(df[['Plot Summary', 'Cleaned Plot']].head())\n",
        "\n",
        "# Initialize the TF-IDF Vectorizer\n",
        "# - max_features: Limit to top 5000 words to reduce dimensionality\n",
        "# - stop_words: Remove stopwords from the text (like 'the', 'is', etc.)\n",
        "# Use 'english' to use the built in stop word list for english\n",
        "tfidf = TfidfVectorizer(max_features=5000, stop_words='english')\n",
        "\n",
        "# Fit the TF-IDF vectorizer on the cleaned 'Plot Summary' text\n",
        "# - This converts the text data into a numerical format suitable for machine learning models\n",
        "X = tfidf.fit_transform(df['Cleaned Plot']).toarray()\n",
        "\n",
        "# Check the shape of the resulting feature matrix (X)\n",
        "# - The number of rows corresponds to the number of movies (data points)\n",
        "# - The number of columns corresponds to the number of features (top 5000 words by frequency)\n",
        "print(f\"Shape of feature matrix: {X.shape}\")\n",
        "\n",
        "# Optional: Display the first few feature vectors to inspect the TF-IDF representation\n",
        "print(X[:5])  # Print the first 5 rows of the matrix"
      ],
      "cell_type": "code",
      "metadata": {
        "colab": {
          "base_uri": "https://localhost:8080/"
        },
        "id": "DVqUwUvncI3_",
        "outputId": "47652aaa-df2b-4185-bed4-c7b199b4601d"
      },
      "execution_count": 22,
      "outputs": [
        {
          "output_type": "stream",
          "name": "stderr",
          "text": [
            "[nltk_data] Downloading package stopwords to /root/nltk_data...\n",
            "[nltk_data]   Package stopwords is already up-to-date!\n"
          ]
        },
        {
          "output_type": "stream",
          "name": "stdout",
          "text": [
            "                                        Plot Summary  \\\n",
            "0  Listening in to a conversation between his doc...   \n",
            "1  A brother and sister with a past incestuous re...   \n",
            "2  As the bus empties the students for their fiel...   \n",
            "3  To help their unemployed father make ends meet...   \n",
            "4  The film's title refers not only to the un-rec...   \n",
            "\n",
            "                                        Cleaned Plot  \n",
            "0  listening in to a conversation between his doc...  \n",
            "1  a brother and sister with a past incestuous re...  \n",
            "2  as the bus empties the students for their fiel...  \n",
            "3  to help their unemployed father make ends meet...  \n",
            "4  the film s title refers not only to the un rec...  \n",
            "Shape of feature matrix: (49867, 5000)\n",
            "[[0.         0.13315529 0.         ... 0.         0.         0.        ]\n",
            " [0.         0.         0.         ... 0.         0.         0.        ]\n",
            " [0.         0.         0.         ... 0.         0.         0.        ]\n",
            " [0.         0.         0.         ... 0.         0.         0.        ]\n",
            " [0.         0.         0.         ... 0.         0.         0.        ]]\n"
          ]
        }
      ]
    },
    {
      "cell_type": "code",
      "source": [
        "import joblib\n",
        "from sklearn.preprocessing import LabelEncoder\n",
        "\n",
        "# Initialize and fit the label encoder\n",
        "label_encoder = LabelEncoder()\n",
        "label_encoder.fit(df['Genre'])\n",
        "\n",
        "# Save the label encoder to a file\n",
        "joblib.dump(label_encoder, 'label_encoder.joblib')\n"
      ],
      "metadata": {
        "colab": {
          "base_uri": "https://localhost:8080/"
        },
        "id": "7_YFrRkUv-9B",
        "outputId": "382904e4-fba8-4fd6-f039-a3b6608f5a0a"
      },
      "execution_count": 25,
      "outputs": [
        {
          "output_type": "execute_result",
          "data": {
            "text/plain": [
              "['label_encoder.joblib']"
            ]
          },
          "metadata": {},
          "execution_count": 25
        }
      ]
    },
    {
      "cell_type": "code",
      "source": [
        "from sklearn.preprocessing import LabelEncoder\n",
        "# Initialize the LabelEncoder\n",
        "label_encoder = LabelEncoder()\n",
        "\n",
        "# Fit and transform the 'Genre' column\n",
        "df['Encoded Genre'] = label_encoder.fit_transform(df['Genre'])\n"
      ],
      "metadata": {
        "id": "69YCgKGrnFf6"
      },
      "execution_count": 26,
      "outputs": []
    },
    {
      "cell_type": "code",
      "source": [
        "print(df[['Genre', 'Encoded Genre']].drop_duplicates())\n"
      ],
      "metadata": {
        "colab": {
          "base_uri": "https://localhost:8080/"
        },
        "id": "w_3EbSeinIbi",
        "outputId": "bcf79903-f5e5-4bf0-e9e0-4aec5299e0b2"
      },
      "execution_count": 27,
      "outputs": [
        {
          "output_type": "stream",
          "name": "stdout",
          "text": [
            "            Genre  Encoded Genre\n",
            "0           drama              8\n",
            "1        thriller             24\n",
            "2           adult              1\n",
            "5     documentary              7\n",
            "6          comedy              5\n",
            "7           crime              6\n",
            "8      reality-tv             18\n",
            "17          sport             22\n",
            "18      animation              3\n",
            "23         action              0\n",
            "24          short             21\n",
            "25         sci-fi             20\n",
            "28         horror             13\n",
            "32          music             14\n",
            "46      talk-show             23\n",
            "69        western             26\n",
            "75         family              9\n",
            "76        mystery             16\n",
            "104     adventure              2\n",
            "119       history             12\n",
            "164          news             17\n",
            "252       romance             19\n",
            "298     biography              4\n",
            "618       fantasy             10\n",
            "672     game-show             11\n",
            "847       musical             15\n",
            "1074          war             25\n"
          ]
        }
      ]
    },
    {
      "cell_type": "code",
      "source": [
        "from sklearn.svm import SVC\n",
        "from sklearn.metrics import classification_report, accuracy_score\n",
        "from sklearn.model_selection import train_test_split\n",
        "import joblib\n",
        "\n",
        "# Load the preprocessed data\n",
        "df = pd.read_csv('cleaned_movies_data.csv')\n",
        "\n",
        "# Function to clean text\n",
        "def clean_text(text):\n",
        "    text = re.sub(r'\\W', ' ', text)  # Remove non-alphabetic characters\n",
        "    text = text.lower()             # Convert to lowercase\n",
        "    text = re.sub(r'\\s+', ' ', text) # Replace multiple spaces with a single space\n",
        "    text = text.strip()             # Strip leading and trailing spaces\n",
        "    return text\n",
        "\n",
        "df['Cleaned Plot'] = df['Plot Summary'].apply(clean_text)\n",
        "\n",
        "# Load the TF-IDF Vectorizer and Label Encoder\n",
        "tfidf_vectorizer = joblib.load('tfidf_vectorizer.joblib')\n",
        "label_encoder = joblib.load('label_encoder.joblib')\n",
        "\n",
        "# Transform the cleaned plot summaries into TF-IDF features\n",
        "X = tfidf_vectorizer.transform(df['Cleaned Plot'])  # Use sparse matrix\n",
        "\n",
        "# Encode the genre labels\n",
        "y = label_encoder.transform(df['Genre'])\n",
        "\n",
        "# Subset the data to include only the first 10000 samples\n",
        "X_subset = X[:30000]  # Selects the first 30000 rows from the feature matrix X\n",
        "y_subset = y[:30000]  # Selects the first 30000 labels from the target variable y\n",
        "\n",
        "# Split the data into training and testing sets\n",
        "X_train, X_test, y_train, y_test = train_test_split(X_subset, y_subset, test_size=0.2, random_state=42)\n",
        "\n",
        "# Initialize the SVM classifier (you can modify the parameters as needed)\n",
        "svm = SVC(kernel='linear', C=1.0)  # Using a linear kernel here as an example\n",
        "\n",
        "# Train the SVM model on the subset of the data\n",
        "svm.fit(X_train, y_train)\n",
        "\n",
        "# Check if the model is trained successfully\n",
        "print(\"Model trained on the first 30000 datasets to consume time(edit the code to increase accuracy)\")\n",
        "\n",
        "# Save the trained SVM model\n",
        "joblib.dump(svm, 'svm_model.joblib')\n"
      ],
      "metadata": {
        "id": "ttTTtQFhonDC",
        "colab": {
          "base_uri": "https://localhost:8080/"
        },
        "outputId": "f3a94b1e-3fa4-40ab-8d85-c79353b000f1"
      },
      "execution_count": 35,
      "outputs": [
        {
          "output_type": "stream",
          "name": "stdout",
          "text": [
            "Model trained on the first 30000 datasets to consume time(edit the code to increase accuracy)\n"
          ]
        },
        {
          "output_type": "execute_result",
          "data": {
            "text/plain": [
              "['svm_model.joblib']"
            ]
          },
          "metadata": {},
          "execution_count": 35
        }
      ]
    },
    {
      "cell_type": "code",
      "source": [
        "from sklearn.metrics import accuracy_score\n",
        "\n",
        "# Test the model on another subset of data\n",
        "# Let's use rows from 30000 to 30000 as a test set for simplicity\n",
        "X_test = X[30000:32000]\n",
        "y_test = y[30000:32000]\n",
        "\n",
        "# Use the trained SVM model to make predictions on the test set\n",
        "y_pred = svm.predict(X_test)\n",
        "\n",
        "# Calculate the accuracy of the model\n",
        "accuracy = accuracy_score(y_test, y_pred)\n",
        "\n",
        "# Display the accuracy\n",
        "print(f\"Accuracy of the model on test set: {accuracy * 100:.2f}%\")\n"
      ],
      "metadata": {
        "colab": {
          "base_uri": "https://localhost:8080/"
        },
        "id": "Gx8qkIOYGvdb",
        "outputId": "ea4c5246-80d3-405c-c0b2-8a3e1e05c232"
      },
      "execution_count": 36,
      "outputs": [
        {
          "output_type": "stream",
          "name": "stdout",
          "text": [
            "Accuracy of the model on test set: 56.55%\n"
          ]
        }
      ]
    },
    {
      "cell_type": "code",
      "source": [
        "from sklearn.preprocessing import LabelEncoder\n",
        "\n",
        "# Re-initialize the label encoder and fit it on the target data if not already done\n",
        "le = LabelEncoder()\n",
        "y_encoded = le.fit_transform(df['Genre'])  # Encode the 'Genre' column if you haven't done this earlier\n",
        "\n",
        "# Define a function to predict the genre based on a new plot summary\n",
        "def predict_genre(summary):\n",
        "    # Clean the input summary using the same cleaning function\n",
        "    cleaned_summary = clean_text(summary)\n",
        "\n",
        "    # Transform the cleaned summary using the trained TF-IDF vectorizer\n",
        "    summary_tfidf = tfidf.transform([cleaned_summary]).toarray()\n",
        "\n",
        "    # Predict the genre using the trained SVM model\n",
        "    predicted_genre_encoded = svm.predict(summary_tfidf)\n",
        "\n",
        "    # Decode the predicted label to get the genre name\n",
        "    predicted_genre = le.inverse_transform(predicted_genre_encoded)\n",
        "\n",
        "    return predicted_genre[0]\n",
        "\n",
        "# Test with a sample summary\n",
        "sample_summary = \"When big business meets big charity, the partnership can be very profitable for both. At the same time this modern-day alliance presents interesting ethical questions about the nature of corporate altruism. Philanthropy Inc. tells the story of this new phenomenon using three case studies involving three of the world's largest corporations and three of the world's largest charities. Each story is an example of how the partnership of business and charity can work, and sometimes not work. Philanthropy, Inc., explores the ethical questions by taking them to the people who know this issue best. We speak to the leaders at the forefront of the movement and examine high profile case studies involving some of North America's corporate giants like Coca-Cola, Wal-Mart and General Mills.\"\n",
        "\n",
        "# Get the predicted genre\n",
        "predicted_genre = predict_genre(sample_summary)\n",
        "print(f\"Predicted Genre: {predicted_genre}\")\n"
      ],
      "metadata": {
        "colab": {
          "base_uri": "https://localhost:8080/"
        },
        "id": "EV2pyb5YMgI-",
        "outputId": "bbc04258-8bef-4805-c4df-d5d4cbc33ecb"
      },
      "execution_count": 39,
      "outputs": [
        {
          "output_type": "stream",
          "name": "stdout",
          "text": [
            "Predicted Genre: documentary\n"
          ]
        }
      ]
    },
    {
      "cell_type": "code",
      "source": [
        "# Test with a sample summary\n",
        "sample_summary = \"A group of teenagers discover a mysterious object in the woods, leading to strange occurrences and a fight for survival.\"\n",
        "\n",
        "# Get the predicted genre\n",
        "predicted_genre = predict_genre(sample_summary)\n",
        "print(f\"Predicted Genre: {predicted_genre}\")\n"
      ],
      "metadata": {
        "colab": {
          "base_uri": "https://localhost:8080/"
        },
        "id": "lvmJWVa6eIqM",
        "outputId": "d10d39e1-bcbd-4d91-a017-26acd3798ed6"
      },
      "execution_count": 40,
      "outputs": [
        {
          "output_type": "stream",
          "name": "stdout",
          "text": [
            "Predicted Genre: horror\n"
          ]
        }
      ]
    },
    {
      "cell_type": "code",
      "source": [
        "import joblib\n",
        "\n",
        "# Save the trained model to a file\n",
        "filename = 'svm_model.joblib'\n",
        "joblib.dump(svm, filename)\n",
        "\n",
        "print(f\"Model saved as {filename}\")"
      ],
      "metadata": {
        "colab": {
          "base_uri": "https://localhost:8080/"
        },
        "id": "-QLynPULfPDk",
        "outputId": "0889d5e9-4b89-4542-8e08-ebd1fe9bc392"
      },
      "execution_count": 41,
      "outputs": [
        {
          "output_type": "stream",
          "name": "stdout",
          "text": [
            "Model saved as svm_model.joblib\n"
          ]
        }
      ]
    }
  ],
  "metadata": {
    "colab": {
      "provenance": []
    },
    "kernelspec": {
      "display_name": "Python 3",
      "name": "python3"
    },
    "language_info": {
      "name": "python"
    }
  },
  "nbformat": 4,
  "nbformat_minor": 0
}